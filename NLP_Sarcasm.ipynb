{
  "nbformat": 4,
  "nbformat_minor": 0,
  "metadata": {
    "colab": {
      "name": "NLP_Sarcasm.ipynb",
      "provenance": []
    },
    "kernelspec": {
      "name": "python3",
      "display_name": "Python 3"
    },
    "language_info": {
      "name": "python"
    },
    "accelerator": "GPU"
  },
  "cells": [
    {
      "cell_type": "code",
      "source": [
        "#!/usr/bin/env python\n",
        "# coding: utf-8\n",
        "import json\n",
        "import tensorflow as tf\n",
        "import numpy as np\n",
        "import csv\n",
        "import urllib\n",
        "from tensorflow.keras.preprocessing.text import Tokenizer\n",
        "from tensorflow.keras.preprocessing.sequence import pad_sequences\n",
        "import json\n",
        "from tensorflow.keras.models import Sequential\n",
        "from tensorflow.keras.layers import Embedding, LSTM, Dense, Dropout, Bidirectional, BatchNormalization, SpatialDropout2D, SpatialDropout1D, Flatten, GRU\n",
        "from tensorflow.keras.preprocessing.sequence import pad_sequences\n",
        "from tensorflow.keras.preprocessing.text import Tokenizer\n",
        "from tensorflow.keras.optimizers import Adam\n",
        "from tensorflow.keras import regularizers"
      ],
      "metadata": {
        "id": "PPczaecVs8tp"
      },
      "execution_count": 21,
      "outputs": []
    },
    {
      "cell_type": "code",
      "source": [
        "url = 'https://storage.googleapis.com/download.tensorflow.org/data/sarcasm.json'\n",
        "urllib.request.urlretrieve(url, 'sarcasm.json')"
      ],
      "metadata": {
        "colab": {
          "base_uri": "https://localhost:8080/"
        },
        "id": "4oX0aV_5tE6d",
        "outputId": "7a684743-93aa-43cf-fb0f-d2048db976e4"
      },
      "execution_count": 3,
      "outputs": [
        {
          "output_type": "execute_result",
          "data": {
            "text/plain": [
              "('sarcasm.json', <http.client.HTTPMessage at 0x7fae0e30dcd0>)"
            ]
          },
          "metadata": {},
          "execution_count": 3
        }
      ]
    },
    {
      "cell_type": "code",
      "source": [
        "# HyprerParamters\n",
        "vocab_size = 1000\n",
        "embedding_dim = 16\n",
        "max_length = 120\n",
        "trunc_type='post'\n",
        "padding_type='post'\n",
        "oov_tok = \"<OOV>\"\n",
        "training_size = 20000"
      ],
      "metadata": {
        "id": "yvuNHnk9tUVL"
      },
      "execution_count": 4,
      "outputs": []
    },
    {
      "cell_type": "code",
      "source": [
        "# Load Data\n",
        "with open(\"sarcasm.json\", 'r') as f:\n",
        "    datastore = json.load(f)"
      ],
      "metadata": {
        "id": "_OxmVJyVtWxe"
      },
      "execution_count": 5,
      "outputs": []
    },
    {
      "cell_type": "code",
      "source": [
        "sentences = []\n",
        "labels = []\n",
        "urls = []\n",
        "for item in datastore:\n",
        "    sentences.append(item['headline'])\n",
        "    labels.append(item['is_sarcastic'])"
      ],
      "metadata": {
        "id": "P-7T83BxtbqH"
      },
      "execution_count": 6,
      "outputs": []
    },
    {
      "cell_type": "code",
      "source": [
        "training_sentences = sentences[0:training_size]\n",
        "testing_sentences = sentences[training_size:]\n",
        "training_labels = labels[0:training_size]\n",
        "testing_labels = labels[training_size:]"
      ],
      "metadata": {
        "id": "di6tU32WteM7"
      },
      "execution_count": 7,
      "outputs": []
    },
    {
      "cell_type": "code",
      "source": [
        "tokenizer = Tokenizer(num_words=vocab_size, oov_token=oov_tok)\n",
        "tokenizer.fit_on_texts(training_sentences)\n",
        "\n",
        "word_index = tokenizer.word_index\n",
        "\n",
        "training_sequences = tokenizer.texts_to_sequences(training_sentences)\n",
        "training_padded = pad_sequences(training_sequences, maxlen=max_length, padding=padding_type, truncating=trunc_type)\n",
        "\n",
        "testing_sequences = tokenizer.texts_to_sequences(testing_sentences)\n",
        "testing_padded = pad_sequences(testing_sequences, maxlen=max_length, padding=padding_type, truncating=trunc_type)"
      ],
      "metadata": {
        "id": "i1Da7OgJthts"
      },
      "execution_count": 8,
      "outputs": []
    },
    {
      "cell_type": "code",
      "source": [
        "callback=tf.keras.callbacks.EarlyStopping(\n",
        "    monitor='val_loss',\n",
        "    min_delta=0,\n",
        "    patience=3,\n",
        "    verbose=0,\n",
        "    mode='auto',\n",
        "    baseline=None,\n",
        "    restore_best_weights=False\n",
        ")"
      ],
      "metadata": {
        "id": "snyM_hB15-lC"
      },
      "execution_count": 9,
      "outputs": []
    },
    {
      "cell_type": "code",
      "source": [
        "#model = tf.keras.Sequential([\n",
        "   # tf.keras.layers.Embedding(vocab_size, embedding_dim, input_length=max_length),\n",
        "   # tf.keras.layers.Dense(1, activation='sigmoid') ])\n",
        "\n",
        "model = Sequential()\n",
        "model.add(Embedding(input_dim=vocab_size, output_dim=embedding_dim, input_length=max_length))\n",
        "model.add(Bidirectional(LSTM(128, return_sequences=True)))\n",
        "\n",
        "model.add(Bidirectional(LSTM(256, return_sequences=True)))\n",
        "model.add(Dropout(0.2))\n",
        "model.add(BatchNormalization())\n",
        "model.add(Bidirectional(LSTM(400)))\n",
        "model.add(Dropout(0.1))\n",
        "model.add(Dense(80, activation='elu'))\n",
        "model.add(Dense(300, activation='elu'))\n",
        "model.add(Dense(1, activation='sigmoid'))\n",
        "\n",
        "model.compile(loss='binary_crossentropy',optimizer='adam',metrics=['accuracy'])\n",
        "model.summary()\n",
        "\n",
        "training_padded = np.array(training_padded)\n",
        "training_labels = np.array(training_labels)\n",
        "testing_padded = np.array(testing_padded)\n",
        "testing_labels = np.array(testing_labels)\n",
        "\n",
        "history = model.fit(training_padded, training_labels, epochs=10, validation_data=(testing_padded, testing_labels), verbose=1, callbacks=[callback])"
      ],
      "metadata": {
        "colab": {
          "base_uri": "https://localhost:8080/"
        },
        "id": "brQr9O_dtoG_",
        "outputId": "b0348b66-370d-40af-f212-a0c28a69122c"
      },
      "execution_count": null,
      "outputs": [
        {
          "output_type": "stream",
          "name": "stdout",
          "text": [
            "Model: \"sequential_3\"\n",
            "_________________________________________________________________\n",
            " Layer (type)                Output Shape              Param #   \n",
            "=================================================================\n",
            " embedding_3 (Embedding)     (None, 120, 16)           16000     \n",
            "                                                                 \n",
            " bidirectional_9 (Bidirectio  (None, 120, 256)         148480    \n",
            " nal)                                                            \n",
            "                                                                 \n",
            " bidirectional_10 (Bidirecti  (None, 120, 512)         1050624   \n",
            " onal)                                                           \n",
            "                                                                 \n",
            " dropout_6 (Dropout)         (None, 120, 512)          0         \n",
            "                                                                 \n",
            " batch_normalization_3 (Batc  (None, 120, 512)         2048      \n",
            " hNormalization)                                                 \n",
            "                                                                 \n",
            " bidirectional_11 (Bidirecti  (None, 800)              2921600   \n",
            " onal)                                                           \n",
            "                                                                 \n",
            " dropout_7 (Dropout)         (None, 800)               0         \n",
            "                                                                 \n",
            " dense_6 (Dense)             (None, 80)                64080     \n",
            "                                                                 \n",
            " dense_7 (Dense)             (None, 300)               24300     \n",
            "                                                                 \n",
            " dense_8 (Dense)             (None, 1)                 301       \n",
            "                                                                 \n",
            "=================================================================\n",
            "Total params: 4,227,433\n",
            "Trainable params: 4,226,409\n",
            "Non-trainable params: 1,024\n",
            "_________________________________________________________________\n",
            "Epoch 1/10\n",
            "625/625 [==============================] - 51s 72ms/step - loss: 0.4379 - accuracy: 0.7896 - val_loss: 0.4814 - val_accuracy: 0.7748\n",
            "Epoch 2/10\n",
            "625/625 [==============================] - 44s 70ms/step - loss: 0.3541 - accuracy: 0.8413 - val_loss: 0.3847 - val_accuracy: 0.8217\n",
            "Epoch 3/10\n",
            "625/625 [==============================] - 44s 70ms/step - loss: 0.3263 - accuracy: 0.8558 - val_loss: 0.3935 - val_accuracy: 0.8216\n",
            "Epoch 4/10\n",
            "625/625 [==============================] - 44s 70ms/step - loss: 0.3068 - accuracy: 0.8654 - val_loss: 0.4592 - val_accuracy: 0.7942\n",
            "Epoch 5/10\n",
            "625/625 [==============================] - 44s 70ms/step - loss: 0.2897 - accuracy: 0.8755 - val_loss: 0.4114 - val_accuracy: 0.8229\n"
          ]
        }
      ]
    },
    {
      "cell_type": "code",
      "source": [
        "# Plot the chart for accuracy and loss on both training and validation \n",
        "import matplotlib.pyplot as plt \n",
        "acc = history.history['accuracy'] \n",
        "val_acc = history.history['val_accuracy'] \n",
        "loss = history.history['loss']   \n",
        "val_loss = history.history['val_loss']  \n",
        " \n",
        "epochs = range(len(acc)) \n",
        " \n",
        "plt.plot(epochs, acc, 'r', label='Training accuracy') \n",
        "plt.plot(epochs, val_acc, 'b', label='Validation accuracy') \n",
        "plt.title('Training and validation accuracy') \n",
        "plt.legend() \n",
        "plt.figure() \n",
        " \n",
        "plt.plot(epochs, loss, 'r', label='Training Loss') \n",
        "plt.plot(epochs, val_loss, 'b', label='Validation Loss') \n",
        "plt.title('Training and validation loss') \n",
        "plt.legend() \n",
        " \n",
        "plt.show()"
      ],
      "metadata": {
        "id": "PBG8uL2TzV-p",
        "colab": {
          "base_uri": "https://localhost:8080/",
          "height": 545
        },
        "outputId": "1dbab6d1-8169-47c6-fd1c-929e4a8aaf8c"
      },
      "execution_count": null,
      "outputs": [
        {
          "output_type": "display_data",
          "data": {
            "text/plain": [
              "<Figure size 432x288 with 1 Axes>"
            ],
            "image/png": "[encoded data removed]"
          },
          "metadata": {
            "needs_background": "light"
          }
        },
        {
          "output_type": "display_data",
          "data": {
            "text/plain": [
              "<Figure size 432x288 with 1 Axes>"
            ],
            "image/png": "[encoded data removed]"
          },
          "metadata": {
            "needs_background": "light"
          }
        }
      ]
    },
    {
      "cell_type": "code",
      "source": [
        "model2 = Sequential()\n",
        "model2.add(Embedding(vocab_size, embedding_dim, input_length = max_length))\n",
        "model2.add(SpatialDropout1D(0.2)),\n",
        "model2.add(Bidirectional(LSTM(128, dropout=0.2, recurrent_dropout=0, activation='tanh',recurrent_activation='sigmoid', unroll=False, use_bias=True)))\n",
        "model2.add(Flatten())\n",
        "model2.add(Dense(1, activation='sigmoid'))\n",
        "\n",
        "model2.compile(loss='binary_crossentropy',optimizer='adam',metrics=['accuracy'])\n",
        "model2.summary()\n",
        "\n",
        "training_padded = np.array(training_padded)\n",
        "training_labels = np.array(training_labels)\n",
        "testing_padded = np.array(testing_padded)\n",
        "testing_labels = np.array(testing_labels)\n",
        "\n",
        "history = model2.fit(training_padded, training_labels, epochs=10, validation_data=(testing_padded, testing_labels), verbose=1, callbacks=[callback])"
      ],
      "metadata": {
        "id": "3e6-2US57Cje",
        "colab": {
          "base_uri": "https://localhost:8080/"
        },
        "outputId": "759fa02f-d3fc-4346-905c-22c6768e6290"
      },
      "execution_count": 28,
      "outputs": [
        {
          "output_type": "stream",
          "name": "stdout",
          "text": [
            "Model: \"sequential_11\"\n",
            "_________________________________________________________________\n",
            " Layer (type)                Output Shape              Param #   \n",
            "=================================================================\n",
            " embedding_11 (Embedding)    (None, 120, 16)           16000     \n",
            "                                                                 \n",
            " spatial_dropout1d_10 (Spati  (None, 120, 16)          0         \n",
            " alDropout1D)                                                    \n",
            "                                                                 \n",
            " bidirectional_9 (Bidirectio  (None, 256)              148480    \n",
            " nal)                                                            \n",
            "                                                                 \n",
            " flatten_7 (Flatten)         (None, 256)               0         \n",
            "                                                                 \n",
            " dense_7 (Dense)             (None, 1)                 257       \n",
            "                                                                 \n",
            "=================================================================\n",
            "Total params: 164,737\n",
            "Trainable params: 164,737\n",
            "Non-trainable params: 0\n",
            "_________________________________________________________________\n",
            "Epoch 1/10\n",
            "625/625 [==============================] - 54s 82ms/step - loss: 0.4666 - accuracy: 0.7660 - val_loss: 0.3859 - val_accuracy: 0.8204\n",
            "Epoch 2/10\n",
            "625/625 [==============================] - 49s 78ms/step - loss: 0.3702 - accuracy: 0.8288 - val_loss: 0.3951 - val_accuracy: 0.8186\n",
            "Epoch 3/10\n",
            "625/625 [==============================] - 49s 78ms/step - loss: 0.3558 - accuracy: 0.8386 - val_loss: 0.3783 - val_accuracy: 0.8258\n",
            "Epoch 4/10\n",
            "625/625 [==============================] - 48s 77ms/step - loss: 0.3414 - accuracy: 0.8461 - val_loss: 0.3775 - val_accuracy: 0.8295\n",
            "Epoch 5/10\n",
            "625/625 [==============================] - 49s 78ms/step - loss: 0.3298 - accuracy: 0.8514 - val_loss: 0.3700 - val_accuracy: 0.8278\n",
            "Epoch 6/10\n",
            "625/625 [==============================] - 49s 78ms/step - loss: 0.3197 - accuracy: 0.8560 - val_loss: 0.3744 - val_accuracy: 0.8295\n",
            "Epoch 7/10\n",
            "625/625 [==============================] - 48s 77ms/step - loss: 0.3142 - accuracy: 0.8605 - val_loss: 0.3781 - val_accuracy: 0.8317\n",
            "Epoch 8/10\n",
            "625/625 [==============================] - 49s 78ms/step - loss: 0.3094 - accuracy: 0.8623 - val_loss: 0.3774 - val_accuracy: 0.8231\n"
          ]
        }
      ]
    },
    {
      "cell_type": "code",
      "source": [
        "# Plot the chart for accuracy and loss on both training and validation \n",
        "import matplotlib.pyplot as plt \n",
        "acc = history.history['accuracy'] \n",
        "val_acc = history.history['val_accuracy'] \n",
        "loss = history.history['loss']   \n",
        "val_loss = history.history['val_loss'] \n",
        " \n",
        "epochs = range(len(acc)) \n",
        " \n",
        "plt.plot(epochs, acc, 'r', label='Training accuracy') \n",
        "plt.plot(epochs, val_acc, 'b', label='Validation accuracy') \n",
        "plt.title('Training and validation accuracy') \n",
        "plt.legend() \n",
        "plt.figure() \n",
        " \n",
        "plt.plot(epochs, loss, 'r', label='Training Loss') \n",
        "plt.plot(epochs, val_loss, 'b', label='Validation Loss') \n",
        "plt.title('Training and validation loss') \n",
        "plt.legend() \n",
        " \n",
        "plt.show()"
      ],
      "metadata": {
        "colab": {
          "base_uri": "https://localhost:8080/",
          "height": 545
        },
        "id": "lA0zGPKv5WtW",
        "outputId": "c5612c12-687e-43ee-c926-aa702e457dc3"
      },
      "execution_count": 29,
      "outputs": [
        {
          "output_type": "display_data",
          "data": {
            "text/plain": [
              "<Figure size 432x288 with 1 Axes>"
            ],
            "image/png": "[encoded data removed]"
          },
          "metadata": {
            "needs_background": "light"
          }
        },
        {
          "output_type": "display_data",
          "data": {
            "text/plain": [
              "<Figure size 432x288 with 1 Axes>"
            ],
            "image/png": "[encoded data removed]"
          },
          "metadata": {
            "needs_background": "light"
          }
        }
      ]
    },
    {
      "cell_type": "code",
      "source": [
        "model.save('sarcasm.h5')"
      ],
      "metadata": {
        "id": "7erY-wqa_vNC"
      },
      "execution_count": 36,
      "outputs": []
    },
    {
      "cell_type": "code",
      "source": [
        ""
      ],
      "metadata": {
        "id": "uO5KyjePQVSX"
      },
      "execution_count": null,
      "outputs": []
    }
  ]
}